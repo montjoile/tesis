{
 "cells": [
  {
   "cell_type": "markdown",
   "metadata": {
    "collapsed": true
   },
   "source": [
    "# Tesis\n",
    "\n",
    "Sentiment analysis in social media using python"
   ]
  },
  {
   "cell_type": "markdown",
   "metadata": {},
   "source": [
    "## Imports:\n",
    "\n",
    "- tweepy for Twitter API connection\n",
    "- json for handle json data "
   ]
  },
  {
   "cell_type": "code",
   "execution_count": 1,
   "metadata": {
    "collapsed": true
   },
   "outputs": [],
   "source": [
    "# run just in case tweepy package is not recognized in jupyter notebook:\n",
    "#import pip\n",
    "#pip.main(['install','tweepy'])"
   ]
  },
  {
   "cell_type": "code",
   "execution_count": 2,
   "metadata": {
    "collapsed": true
   },
   "outputs": [],
   "source": [
    "import tweepy\n",
    "import json"
   ]
  },
  {
   "cell_type": "markdown",
   "metadata": {},
   "source": [
    "## Twitter application credentials:"
   ]
  },
  {
   "cell_type": "code",
   "execution_count": 3,
   "metadata": {
    "collapsed": true
   },
   "outputs": [],
   "source": [
    "consumer_key    = 'c1WsPZTfqedj5ChMKZaFvrkWk'\n",
    "consumer_secret = 'A1LZGPwkyHo7WwmPdC7jfmfyWVOfJXalpXly8GohAuexUD011Y'\n",
    "access_token    = '3593453541-gu5plnoVovPTLtYfYZx8WzavDYbCci0xLK0lw42'\n",
    "access_token_secret = 'EUpEZoFiWKrDNUxRpIxOT3q7h5V7qEjpH1ai5Yr6p7KyC'"
   ]
  },
  {
   "cell_type": "code",
   "execution_count": 4,
   "metadata": {
    "collapsed": true
   },
   "outputs": [],
   "source": [
    "# Create API connection:\n",
    "\n",
    "auth = tweepy.OAuthHandler(consumer_key, consumer_secret)\n",
    "auth.set_access_token(access_token, access_token_secret)\n",
    "\n",
    "#api = tweepy.API(auth)\n",
    "api = tweepy.API(auth, wait_on_rate_limit_notify=True, wait_on_rate_limit=True)\n",
    "\n",
    "# Create query string for public tweets from country 'Guatemala'\n",
    "places = api.geo_search(query=\"GUATEMALA\", granularity=\"country\")\n",
    "place_id = places[0].id\n",
    " \n",
    "q=\"place:%s\" % place_id \n"
   ]
  },
  {
   "cell_type": "markdown",
   "metadata": {},
   "source": [
    "## Export tweets to json file"
   ]
  },
  {
   "cell_type": "code",
   "execution_count": 5,
   "metadata": {
    "collapsed": true
   },
   "outputs": [],
   "source": [
    "#print tweets\n",
    "#for tweet in tweepy.Cursor(api.search, q=q, rpp=100, count=20, result_type=\"recent\", include_entities=True, lang=\"es\").items(10):\n",
    "#    print(tweet.created_at, tweet.text)"
   ]
  },
  {
   "cell_type": "code",
   "execution_count": 6,
   "metadata": {
    "collapsed": true
   },
   "outputs": [],
   "source": [
    "#search_results = api.search(q=q, lang=\"es\", include_entities=True, since_id=\"2017-01-01\", until=\"2017-05-29\", count=1000)\n",
    "\n",
    "#for tweet in search_results:\n",
    "#    print(tweet)"
   ]
  },
  {
   "cell_type": "code",
   "execution_count": 14,
   "metadata": {},
   "outputs": [
    {
     "name": "stdout",
     "output_type": "stream",
     "text": [
      "Rate limit reached. Sleeping for: 729\n"
     ]
    }
   ],
   "source": [
    "searched_tweets = [status._json for status in tweepy.Cursor(api.search, \n",
    "                                                            q=q, lang=\"es\", \n",
    "                                                            include_entities=True, \n",
    "                                                            since_id=\"2017-08-01\",\n",
    "                                                            until=\"2017-08-31\").items(1000)]\n",
    "json_strings = [json.dumps(json_obj) for json_obj in searched_tweets]  \n",
    "\n",
    "with open('31082017.txt', 'w') as outfile:\n",
    "    json.dump(json_strings, outfile)"
   ]
  },
  {
   "cell_type": "code",
   "execution_count": null,
   "metadata": {
    "collapsed": true
   },
   "outputs": [],
   "source": []
  }
 ],
 "metadata": {
  "kernelspec": {
   "display_name": "Python 3",
   "language": "python",
   "name": "python3"
  },
  "language_info": {
   "codemirror_mode": {
    "name": "ipython",
    "version": 3
   },
   "file_extension": ".py",
   "mimetype": "text/x-python",
   "name": "python",
   "nbconvert_exporter": "python",
   "pygments_lexer": "ipython3",
   "version": "3.6.0"
  }
 },
 "nbformat": 4,
 "nbformat_minor": 2
}
