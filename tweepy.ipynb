{
 "cells": [
  {
   "cell_type": "code",
   "execution_count": 1,
   "metadata": {
    "collapsed": true
   },
   "outputs": [],
   "source": [
    "import tweepy\n",
    "import MySQLdb\n",
    "\n",
    "#pip install tweepy\n",
    "#pip install mysqlclient"
   ]
  },
  {
   "cell_type": "code",
   "execution_count": 2,
   "metadata": {
    "collapsed": true
   },
   "outputs": [],
   "source": [
    "consumer_key    = 'c1WsPZTfqedj5ChMKZaFvrkWk'\n",
    "consumer_secret = 'A1LZGPwkyHo7WwmPdC7jfmfyWVOfJXalpXly8GohAuexUD011Y'\n",
    "access_token    = '3593453541-gu5plnoVovPTLtYfYZx8WzavDYbCci0xLK0lw42'\n",
    "access_token_secret = 'EUpEZoFiWKrDNUxRpIxOT3q7h5V7qEjpH1ai5Yr6p7KyC'\n"
   ]
  },
  {
   "cell_type": "code",
   "execution_count": 13,
   "metadata": {
    "collapsed": true
   },
   "outputs": [],
   "source": [
    "auth = tweepy.OAuthHandler(consumer_key=consumer_key, consumer_secret=consumer_secret)\n",
    "auth.set_access_token(access_token, access_token_secret)\n",
    "\n",
    "#api = tweepy.API(auth)\n",
    "api = tweepy.API(auth, wait_on_rate_limit_notify=True, wait_on_rate_limit=True)\n"
   ]
  },
  {
   "cell_type": "code",
   "execution_count": 4,
   "metadata": {
    "collapsed": true
   },
   "outputs": [],
   "source": [
    "# Create query string for public tweets from country 'Guatemala'\n",
    "places = api.geo_search(query=\"GUATEMALA\", granularity=\"country\")\n",
    "place_id = places[0].id\n",
    " \n",
    "q=\"place:%s\" % place_id \n"
   ]
  },
  {
   "cell_type": "code",
   "execution_count": 5,
   "metadata": {},
   "outputs": [
    {
     "data": {
      "text/plain": [
       "<timestring.Date 2017-06-26 00:09:44 139789556431504>"
      ]
     },
     "execution_count": 5,
     "metadata": {},
     "output_type": "execute_result"
    }
   ],
   "source": [
    "import timestring\n",
    "d = timestring.Date('2017-06-26 00:09:44')\n",
    "d"
   ]
  },
  {
   "cell_type": "code",
   "execution_count": 6,
   "metadata": {
    "collapsed": true
   },
   "outputs": [],
   "source": [
    "import unicodedata\n",
    "\n",
    "def strip_accents(text):\n",
    "\n",
    "    try:\n",
    "        text = unicode(text, 'utf-8')\n",
    "    except NameError: # unicode is a default on python 3 \n",
    "        pass\n",
    "    text = unicodedata.normalize('NFD', text)\n",
    "    text = text.encode('ascii', 'ignore')\n",
    "    text = text.decode(\"utf-8\")\n",
    "    return str(text)\n"
   ]
  },
  {
   "cell_type": "code",
   "execution_count": 9,
   "metadata": {
    "collapsed": true
   },
   "outputs": [],
   "source": [
    "#import regex\n",
    "import re\n",
    "from unidecode import unidecode\n",
    "\n",
    "#start process_tweet\n",
    "def processTweet(tweet):\n",
    "    # process the tweets\n",
    "\n",
    "    #Convert to lower case\n",
    "    tweet = tweet.lower()\n",
    "    #Convert www.* or https?://* to URL\n",
    "    tweet = re.sub('((www\\.[^\\s]+)|(https?://[^\\s]+))','URL',tweet)\n",
    "    #Convert @username to AT_USER\n",
    "    tweet = re.sub('@[^\\s]+','AT_USER',tweet)\n",
    "    #Remove additional white spaces\n",
    "    tweet = re.sub('[\\s]+', ' ', tweet)\n",
    "    #Replace #word with word\n",
    "    tweet = re.sub(r'#([^\\s]+)', r'\\1', tweet)\n",
    "    #trim\n",
    "    tweet = tweet.strip('\\'\"')\n",
    "    #accented characters\n",
    "    tweet = unidecode(tweet)\n",
    "    #remove special characters\n",
    "    tweet = re.sub('[^A-Za-z0-9]+', ' ', tweet)\n",
    "    tweet = strip_accents(tweet)\n",
    "    #remove emoticons\n",
    "    myre = re.compile(u'['\n",
    "                      u'\\U0001F300-\\U0001F64F'\n",
    "                      u'\\U0001F680-\\U0001F6FF'\n",
    "                      u'\\u2600-\\u26FF\\u2700-\\u27BF]+', re.UNICODE)\n",
    "    #tweet = myre.sub('', tweet)\n",
    "    #tweet = unidecode(tweet)\n",
    "    #tweet = tweet.encode(\"ascii\")\n",
    "    return str(tweet)\n",
    "#end\n",
    "\n"
   ]
  },
  {
   "cell_type": "code",
   "execution_count": 32,
   "metadata": {},
   "outputs": [
    {
     "name": "stdout",
     "output_type": "stream",
     "text": [
      "jajajajajajajajajajaja nocierto\n",
      " dios es bueno buenoesdios hogardulcehogar guatemala city URL\n",
      "todos deberian de tener ese pequeno msj de amor de esa persona antes de dormir \n",
      "voy a seguir mi corazon voy a escuchar \n",
      " como se toca fondo cuando uno mismo es el vacio \n",
      "si no hay oxigeno no hay vida si no hay agua no hay vida defendamos el agua porque es nuestra vida oxigeno URL\n",
      "si te arriesgas dimelo quiero saber \n",
      "habra que medir el peso de las palabras por si toca traerlas de regreso \n",
      "y cuando por fin puedo dormir temprano aca estoy como pendejo aun despierto \n",
      "pero balee\n",
      "tengo sueno\n"
     ]
    }
   ],
   "source": [
    "db = MySQLdb.connect(\"localhost\",\"root\",\"terranostra\",\"tesis\" )\n",
    "cursor = db.cursor()\n",
    "public_tweets = api.search(q=q, lang=\"es\", rpp=1000, since_id=\"2017-01-01\")#, until=\"2017-01-03\")\n",
    "\n",
    "for tweet in public_tweets:\n",
    "    #print(tweet.id)\n",
    "    #print(tweet.text)\n",
    "    #print(tweet.created_at)\n",
    "    tweet_id = tweet.id\n",
    "    text = processTweet(tweet.text)\n",
    "    date = tweet.created_at\n",
    "    print(text)\n",
    "    try:\n",
    "        cursor.execute( 'insert into tweets(id, text, date) values(\"%d\",\"%s\", \"%s\")' % (tweet_id, text, date) )\n",
    "    except:\n",
    "        pass\n",
    "    db.commit()\n",
    "db.close()"
   ]
  },
  {
   "cell_type": "code",
   "execution_count": null,
   "metadata": {
    "collapsed": true
   },
   "outputs": [],
   "source": []
  },
  {
   "cell_type": "code",
   "execution_count": null,
   "metadata": {
    "collapsed": true
   },
   "outputs": [],
   "source": []
  },
  {
   "cell_type": "code",
   "execution_count": null,
   "metadata": {
    "collapsed": true
   },
   "outputs": [],
   "source": []
  }
 ],
 "metadata": {
  "kernelspec": {
   "display_name": "Python 3",
   "language": "python",
   "name": "python3"
  },
  "language_info": {
   "codemirror_mode": {
    "name": "ipython",
    "version": 3
   },
   "file_extension": ".py",
   "mimetype": "text/x-python",
   "name": "python",
   "nbconvert_exporter": "python",
   "pygments_lexer": "ipython3",
   "version": "3.6.0"
  }
 },
 "nbformat": 4,
 "nbformat_minor": 2
}
